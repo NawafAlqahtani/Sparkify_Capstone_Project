{
 "cells": [
  {
   "cell_type": "markdown",
   "metadata": {},
   "source": [
    "# Sparkify Project Workspace\n",
    "This workspace contains a tiny subset (128MB) of the full dataset available (12GB). Feel free to use this workspace to build your project, or to explore a smaller subset with Spark before deploying your cluster on the cloud. Instructions for setting up your Spark cluster is included in the last lesson of the Extracurricular Spark Course content.\n",
    "\n",
    "You can follow the steps below to guide your data analysis and model building portion of this project."
   ]
  },
  {
   "cell_type": "code",
   "execution_count": 1,
   "metadata": {},
   "outputs": [],
   "source": [
    "# import libraries\n",
    "\n",
    "from pyspark.sql import SparkSession\n",
    "from pyspark.sql.functions import avg, col, concat, desc, explode, lit, min, max, split, udf\n",
    "from pyspark.sql.types import IntegerType\n",
    "from pyspark.sql.window import Window\n",
    "\n",
    "from pyspark.ml import Pipeline\n",
    "from pyspark.ml.classification import LogisticRegression, GBTClassifier,LinearSVC, RandomForestClassifier, NaiveBayes\n",
    "from pyspark.ml.evaluation import BinaryClassificationEvaluator, MulticlassClassificationEvaluator\n",
    "from pyspark.ml.feature import CountVectorizer, IDF, Normalizer, PCA, RegexTokenizer, StandardScaler, StopWordsRemover, StringIndexer, VectorAssembler, StringIndexer\n",
    "from pyspark.ml.regression import LinearRegression\n",
    "from pyspark.ml.tuning import CrossValidator, ParamGridBuilder\n",
    "\n",
    "\n",
    "import re\n",
    "import datetime\n",
    "import numpy as np\n",
    "import pandas as pd\n",
    "%matplotlib inline\n",
    "import matplotlib.pyplot as plt\n",
    "import seaborn as sns\n",
    "import functools as ft"
   ]
  },
  {
   "cell_type": "code",
   "execution_count": 2,
   "metadata": {},
   "outputs": [],
   "source": [
    "# create a Spark session\n",
    "\n",
    "spark = SparkSession \\\n",
    "    .builder \\\n",
    "    .appName(\"Sparkify Project\") \\\n",
    "    .getOrCreate()"
   ]
  },
  {
   "cell_type": "markdown",
   "metadata": {},
   "source": [
    "# Load and Clean Dataset\n",
    "In this workspace, the mini-dataset file is `mini_sparkify_event_data.json`. Load and clean the dataset, checking for invalid or missing data - for example, records without userids or sessionids. "
   ]
  },
  {
   "cell_type": "code",
   "execution_count": 3,
   "metadata": {},
   "outputs": [
    {
     "data": {
      "text/plain": [
       "[('spark.driver.port', '33113'),\n",
       " ('spark.rdd.compress', 'True'),\n",
       " ('spark.serializer.objectStreamReset', '100'),\n",
       " ('spark.master', 'local[*]'),\n",
       " ('spark.executor.id', 'driver'),\n",
       " ('spark.submit.deployMode', 'client'),\n",
       " ('spark.driver.host',\n",
       "  '1ef853f74221f4edf9c887be9ac13b7a2d3c2b18-6c58fdd7b9-h4v5l'),\n",
       " ('spark.app.id', 'local-1695886871804'),\n",
       " ('spark.ui.showConsoleProgress', 'true'),\n",
       " ('spark.app.name', 'Sparkify Project')]"
      ]
     },
     "execution_count": 3,
     "metadata": {},
     "output_type": "execute_result"
    }
   ],
   "source": [
    "spark.sparkContext.getConf().getAll()\n"
   ]
  },
  {
   "cell_type": "code",
   "execution_count": 4,
   "metadata": {},
   "outputs": [
    {
     "data": {
      "text/plain": [
       "['artist',\n",
       " 'auth',\n",
       " 'firstName',\n",
       " 'gender',\n",
       " 'itemInSession',\n",
       " 'lastName',\n",
       " 'length',\n",
       " 'level',\n",
       " 'location',\n",
       " 'method',\n",
       " 'page',\n",
       " 'registration',\n",
       " 'sessionId',\n",
       " 'song',\n",
       " 'status',\n",
       " 'ts',\n",
       " 'userAgent',\n",
       " 'userId']"
      ]
     },
     "execution_count": 4,
     "metadata": {},
     "output_type": "execute_result"
    }
   ],
   "source": [
    "# load in the dataset\n",
    "df = spark.read.json(\"mini_sparkify_event_data.json\")\n",
    "\n",
    "# let's take a look at the columns in the data \n",
    "\n",
    "df.columns"
   ]
  },
  {
   "cell_type": "code",
   "execution_count": 5,
   "metadata": {},
   "outputs": [
    {
     "data": {
      "text/plain": [
       "pyspark.sql.dataframe.DataFrame"
      ]
     },
     "execution_count": 5,
     "metadata": {},
     "output_type": "execute_result"
    }
   ],
   "source": [
    "type(df)"
   ]
  },
  {
   "cell_type": "code",
   "execution_count": 6,
   "metadata": {},
   "outputs": [
    {
     "data": {
      "text/plain": [
       "286500"
      ]
     },
     "execution_count": 6,
     "metadata": {},
     "output_type": "execute_result"
    }
   ],
   "source": [
    "df.count()"
   ]
  },
  {
   "cell_type": "code",
   "execution_count": 7,
   "metadata": {},
   "outputs": [
    {
     "data": {
      "text/plain": [
       "[Row(artist='Martha Tilston', auth='Logged In', firstName='Colin', gender='M', itemInSession=50, lastName='Freeman', length=277.89016, level='paid', location='Bakersfield, CA', method='PUT', page='NextSong', registration=1538173362000, sessionId=29, song='Rockpools', status=200, ts=1538352117000, userAgent='Mozilla/5.0 (Windows NT 6.1; WOW64; rv:31.0) Gecko/20100101 Firefox/31.0', userId='30')]"
      ]
     },
     "execution_count": 7,
     "metadata": {},
     "output_type": "execute_result"
    }
   ],
   "source": [
    "# let's take a look at the first row\n",
    "df.take(1)"
   ]
  },
  {
   "cell_type": "code",
   "execution_count": 8,
   "metadata": {},
   "outputs": [
    {
     "data": {
      "text/plain": [
       "226"
      ]
     },
     "execution_count": 8,
     "metadata": {},
     "output_type": "execute_result"
    }
   ],
   "source": [
    "# how many Users are there ?\n",
    "\n",
    "df.select(\"userId\").distinct().count()"
   ]
  },
  {
   "cell_type": "code",
   "execution_count": 9,
   "metadata": {},
   "outputs": [
    {
     "data": {
      "text/plain": [
       "225"
      ]
     },
     "execution_count": 9,
     "metadata": {},
     "output_type": "execute_result"
    }
   ],
   "source": [
    "# we wanna see the empty string for users and remove it\n",
    "\n",
    "df = df.filter(df['userId'] != \"\")\n",
    "df.select(\"userId\").distinct().count()\n",
    "\n"
   ]
  },
  {
   "cell_type": "code",
   "execution_count": 10,
   "metadata": {},
   "outputs": [
    {
     "name": "stdout",
     "output_type": "stream",
     "text": [
      "+------+-----+\n",
      "|userId|churn|\n",
      "+------+-----+\n",
      "|100010|    0|\n",
      "|200002|    0|\n",
      "|   125|    1|\n",
      "|   124|    0|\n",
      "|    51|    1|\n",
      "|     7|    0|\n",
      "|    15|    0|\n",
      "|    54|    1|\n",
      "|   155|    0|\n",
      "|100014|    1|\n",
      "|   132|    0|\n",
      "|   154|    0|\n",
      "|   101|    1|\n",
      "|    11|    0|\n",
      "|   138|    0|\n",
      "|300017|    0|\n",
      "|100021|    1|\n",
      "|    29|    1|\n",
      "|    69|    0|\n",
      "|   112|    0|\n",
      "+------+-----+\n",
      "only showing top 20 rows\n",
      "\n"
     ]
    }
   ],
   "source": [
    "# Let's make data for the Churn column below to count users who Churn\n",
    "\n",
    "\n",
    "churn_event = udf(lambda x: 1 if x == 'Cancellation Confirmation' else 0, IntegerType())\n",
    "df_churn = df.withColumn('churn_event', churn_event('page'))\n",
    "\n",
    "windowval = Window.partitionBy('userId')\n",
    "df_churn = df_churn.withColumn('churn', max('churn_event').over(windowval))\n",
    "\n",
    "df_churn.select(['userId', 'churn']).dropDuplicates().show(20)"
   ]
  },
  {
   "cell_type": "code",
   "execution_count": 11,
   "metadata": {},
   "outputs": [],
   "source": [
    "\n",
    "#print(df_churn.shape)"
   ]
  },
  {
   "cell_type": "markdown",
   "metadata": {},
   "source": [
    "# Exploratory Data Analysis\n",
    "When you're working with the full dataset, perform EDA by loading a small subset of the data and doing basic manipulations within Spark. In this workspace, you are already provided a small subset of data you can explore.\n",
    "\n",
    "### Define Churn\n",
    "\n",
    "Once you've done some preliminary analysis, create a column `Churn` to use as the label for your model. I suggest using the `Cancellation Confirmation` events to define your churn, which happen for both paid and free users. As a bonus task, you can also look into the `Downgrade` events.\n",
    "\n",
    "### Explore Data\n",
    "Once you've defined churn, perform some exploratory data analysis to observe the behavior for users who stayed vs users who churned. You can start by exploring aggregates on these two groups of users, observing how much of a specific action they experienced per a certain time unit or number of songs played."
   ]
  },
  {
   "cell_type": "code",
   "execution_count": 12,
   "metadata": {},
   "outputs": [],
   "source": [
    "# lets see the null values for each column\n",
    "#df.isna().sum()\n"
   ]
  },
  {
   "cell_type": "markdown",
   "metadata": {},
   "source": [
    "I don't see any missing values in user Id or SessionID so we move on and explore the dataset"
   ]
  },
  {
   "cell_type": "code",
   "execution_count": 13,
   "metadata": {},
   "outputs": [
    {
     "data": {
      "image/png": "[encoded data removed]",
      "text/plain": [
       "<matplotlib.figure.Figure at 0x7fd14399d3c8>"
      ]
     },
     "metadata": {
      "needs_background": "light"
     },
     "output_type": "display_data"
    }
   ],
   "source": [
    "# so now we wanna see who churned from users by gender \n",
    "\n",
    "gender_churn_pd = df_churn.dropDuplicates([\"userId\", \"gender\"]).groupby([\"churn\", \"gender\"]).count().sort(\"churn\").toPandas()\n",
    "\n",
    "\n",
    "ax = sns.barplot(x='churn', y='count', hue='gender', data=gender_churn_pd)\n",
    "plt.xlabel('churned or not?')\n",
    "plt.ylabel('Count')\n",
    "plt.legend(title='Gender', loc='best')\n",
    "plt.title('Male seems to be more churned here')\n",
    "sns.despine(ax=ax);"
   ]
  },
  {
   "cell_type": "code",
   "execution_count": 14,
   "metadata": {},
   "outputs": [
    {
     "data": {
      "text/html": [
       "<div>\n",
       "<style scoped>\n",
       "    .dataframe tbody tr th:only-of-type {\n",
       "        vertical-align: middle;\n",
       "    }\n",
       "\n",
       "    .dataframe tbody tr th {\n",
       "        vertical-align: top;\n",
       "    }\n",
       "\n",
       "    .dataframe thead th {\n",
       "        text-align: right;\n",
       "    }\n",
       "</style>\n",
       "<table border=\"1\" class=\"dataframe\">\n",
       "  <thead>\n",
       "    <tr style=\"text-align: right;\">\n",
       "      <th></th>\n",
       "      <th>churn</th>\n",
       "      <th>gender</th>\n",
       "      <th>count</th>\n",
       "    </tr>\n",
       "  </thead>\n",
       "  <tbody>\n",
       "    <tr>\n",
       "      <th>0</th>\n",
       "      <td>0</td>\n",
       "      <td>M</td>\n",
       "      <td>89</td>\n",
       "    </tr>\n",
       "    <tr>\n",
       "      <th>1</th>\n",
       "      <td>0</td>\n",
       "      <td>F</td>\n",
       "      <td>84</td>\n",
       "    </tr>\n",
       "    <tr>\n",
       "      <th>2</th>\n",
       "      <td>1</td>\n",
       "      <td>F</td>\n",
       "      <td>20</td>\n",
       "    </tr>\n",
       "    <tr>\n",
       "      <th>3</th>\n",
       "      <td>1</td>\n",
       "      <td>M</td>\n",
       "      <td>32</td>\n",
       "    </tr>\n",
       "  </tbody>\n",
       "</table>\n",
       "</div>"
      ],
      "text/plain": [
       "   churn gender  count\n",
       "0      0      M     89\n",
       "1      0      F     84\n",
       "2      1      F     20\n",
       "3      1      M     32"
      ]
     },
     "execution_count": 14,
     "metadata": {},
     "output_type": "execute_result"
    }
   ],
   "source": [
    "gender_churn_pd"
   ]
  },
  {
   "cell_type": "markdown",
   "metadata": {},
   "source": [
    "Clearly there's a diffrence between genders in regards to churn users and not."
   ]
  },
  {
   "cell_type": "code",
   "execution_count": 15,
   "metadata": {},
   "outputs": [
    {
     "name": "stdout",
     "output_type": "stream",
     "text": [
      "Percentage of users who Churn:\n"
     ]
    },
    {
     "data": {
      "text/plain": [
       "23.11111111111111"
      ]
     },
     "execution_count": 15,
     "metadata": {},
     "output_type": "execute_result"
    }
   ],
   "source": [
    "Perc = 52/(52+173)*100\n",
    "print(\"Percentage of users who Churn:\")\n",
    "Perc"
   ]
  },
  {
   "cell_type": "code",
   "execution_count": 16,
   "metadata": {},
   "outputs": [
    {
     "data": {
      "text/plain": [
       "['artist',\n",
       " 'auth',\n",
       " 'firstName',\n",
       " 'gender',\n",
       " 'itemInSession',\n",
       " 'lastName',\n",
       " 'length',\n",
       " 'level',\n",
       " 'location',\n",
       " 'method',\n",
       " 'page',\n",
       " 'registration',\n",
       " 'sessionId',\n",
       " 'song',\n",
       " 'status',\n",
       " 'ts',\n",
       " 'userAgent',\n",
       " 'userId']"
      ]
     },
     "execution_count": 16,
     "metadata": {},
     "output_type": "execute_result"
    }
   ],
   "source": [
    "df.columns"
   ]
  },
  {
   "cell_type": "code",
   "execution_count": 17,
   "metadata": {},
   "outputs": [
    {
     "data": {
      "image/png": "[encoded data removed]",
      "text/plain": [
       "<matplotlib.figure.Figure at 0x7fd188b50fd0>"
      ]
     },
     "metadata": {
      "needs_background": "light"
     },
     "output_type": "display_data"
    }
   ],
   "source": [
    "# now we wanna see the length distribution from users who churn to not\n",
    "\n",
    "df_len_1 = df_churn.filter(df_churn.churn == 1).select(df_churn['length']).toPandas().dropna()#.plot(kind = \"hist\", xlim = (0,500))#.sort_values(by = \"length\",ascending = False)\n",
    "\n",
    "bin_edges = np.arange (10, df_len_1['length'].max()+25, 25)\n",
    "plt.hist(data = df_len_1, x = 'length', bins = bin_edges)\n",
    "plt.xlim(0,700)\n",
    "plt.xlabel('Length')\n",
    "plt.ylabel('Frequency');\n"
   ]
  },
  {
   "cell_type": "code",
   "execution_count": 18,
   "metadata": {},
   "outputs": [
    {
     "data": {
      "image/png": "[encoded data removed]",
      "text/plain": [
       "<matplotlib.figure.Figure at 0x7fd188aab860>"
      ]
     },
     "metadata": {
      "needs_background": "light"
     },
     "output_type": "display_data"
    }
   ],
   "source": [
    "df_len_0 = df_churn.filter(df_churn.churn == 0).select(df_churn['length']).toPandas().dropna()#.plot(kind = \"hist\", xlim = (0,500))#.sort_values(by = \"length\",ascending = False)\n",
    "\n",
    "bin_edges = np.arange (10, df_len_0['length'].max()+25, 25)\n",
    "plt.hist(data = df_len_0, x = 'length', bins = bin_edges)\n",
    "plt.xlim(0,700)\n",
    "plt.xlabel('Length')\n",
    "plt.ylabel('Frequency');"
   ]
  },
  {
   "cell_type": "markdown",
   "metadata": {},
   "source": [
    "it appears that the same length for both who stayed and not so this column maybe it's not ideal to build the model on"
   ]
  },
  {
   "cell_type": "code",
   "execution_count": 19,
   "metadata": {},
   "outputs": [
    {
     "data": {
      "text/html": [
       "<div>\n",
       "<style scoped>\n",
       "    .dataframe tbody tr th:only-of-type {\n",
       "        vertical-align: middle;\n",
       "    }\n",
       "\n",
       "    .dataframe tbody tr th {\n",
       "        vertical-align: top;\n",
       "    }\n",
       "\n",
       "    .dataframe thead th {\n",
       "        text-align: right;\n",
       "    }\n",
       "</style>\n",
       "<table border=\"1\" class=\"dataframe\">\n",
       "  <thead>\n",
       "    <tr style=\"text-align: right;\">\n",
       "      <th></th>\n",
       "      <th>level</th>\n",
       "      <th>churn</th>\n",
       "      <th>count</th>\n",
       "    </tr>\n",
       "  </thead>\n",
       "  <tbody>\n",
       "    <tr>\n",
       "      <th>0</th>\n",
       "      <td>paid</td>\n",
       "      <td>0</td>\n",
       "      <td>129</td>\n",
       "    </tr>\n",
       "    <tr>\n",
       "      <th>1</th>\n",
       "      <td>free</td>\n",
       "      <td>0</td>\n",
       "      <td>149</td>\n",
       "    </tr>\n",
       "    <tr>\n",
       "      <th>2</th>\n",
       "      <td>paid</td>\n",
       "      <td>1</td>\n",
       "      <td>36</td>\n",
       "    </tr>\n",
       "    <tr>\n",
       "      <th>3</th>\n",
       "      <td>free</td>\n",
       "      <td>1</td>\n",
       "      <td>46</td>\n",
       "    </tr>\n",
       "  </tbody>\n",
       "</table>\n",
       "</div>"
      ],
      "text/plain": [
       "  level  churn  count\n",
       "0  paid      0    129\n",
       "1  free      0    149\n",
       "2  paid      1     36\n",
       "3  free      1     46"
      ]
     },
     "execution_count": 19,
     "metadata": {},
     "output_type": "execute_result"
    }
   ],
   "source": [
    "# let's try and explore the level column\n",
    "\n",
    "df_churn.select(['userId', 'churn', 'level']).dropDuplicates().groupBy('level','churn').count().toPandas()"
   ]
  },
  {
   "cell_type": "code",
   "execution_count": 20,
   "metadata": {},
   "outputs": [
    {
     "data": {
      "text/plain": [
       "Text(0.5,1,'The Free users are more likely to churn than the paid ones')"
      ]
     },
     "execution_count": 20,
     "metadata": {},
     "output_type": "execute_result"
    },
    {
     "data": {
      "image/png": "[encoded data removed]",
      "text/plain": [
       "<matplotlib.figure.Figure at 0x7fd188ab2828>"
      ]
     },
     "metadata": {
      "needs_background": "light"
     },
     "output_type": "display_data"
    }
   ],
   "source": [
    "level_df_1 = df_churn.select(['userId', 'churn', 'level']).dropDuplicates().groupby([\"churn\", \"level\"]).count().toPandas()#.plot(kind = \"bar\")#.sort_values(by = \"length\",ascending = False)\n",
    "\n",
    "\n",
    "ax_level = sns.barplot(x='churn', y='count', hue='level', data=level_df_1)\n",
    "plt.xlabel('churned or not?')\n",
    "plt.ylabel('Count')\n",
    "plt.legend(title='Level', loc='best')\n",
    "plt.title('The Free users are more likely to churn than the paid ones')"
   ]
  },
  {
   "cell_type": "markdown",
   "metadata": {},
   "source": [
    "The plot above shows that the free users are more likely to churn, so there's a diffrence between a \"paid\" user and a \"free\" user, this feature would help us in building the model."
   ]
  },
  {
   "cell_type": "code",
   "execution_count": 21,
   "metadata": {},
   "outputs": [
    {
     "data": {
      "text/plain": [
       "<matplotlib.legend.Legend at 0x7fd179914f98>"
      ]
     },
     "execution_count": 21,
     "metadata": {},
     "output_type": "execute_result"
    },
    {
     "data": {
      "image/png": "[encoded data removed]",
      "text/plain": [
       "<matplotlib.figure.Figure at 0x7fd13b319828>"
      ]
     },
     "metadata": {
      "needs_background": "light"
     },
     "output_type": "display_data"
    }
   ],
   "source": [
    "# now let's try to work on the Page column\n",
    "\n",
    "df_page = df_churn.select(['userId', 'churn', 'page']).groupby([\"churn\", \"page\"]).count().toPandas().sort_values(by = \"count\",ascending = False)\n",
    "\n",
    "# create counts for those who churned and those who stayed\n",
    "churn_count =  df_page[df_page['churn'] == 1].sum() \n",
    "stay_count =  df_page[df_page['churn'] == 0].sum()\n",
    "\n",
    "# calculate the rate \n",
    "\n",
    "df_page['rate'] = np.where(\n",
    "    df_page['churn'] == 0, df_page['count']/stay_count['count'], np.where(\n",
    "    df_page['churn'] == 1, df_page['count']/churn_count['count'],df_page['count']/churn_count['count'])) \n",
    "\n",
    "plt.figure(figsize=[20,16])\n",
    "\n",
    "ax_page = sns.barplot(x='rate', y='page', hue='churn', data=df_page)\n",
    "plt.xlabel('Rate of interaction on website by churn users vs users who didnt')\n",
    "plt.ylabel('Page')\n",
    "plt.legend(title='churn', loc='best')"
   ]
  },
  {
   "cell_type": "markdown",
   "metadata": {},
   "source": [
    "We can see from the above plot that the user who skip to next song have the most interaction,we also see that that the roll advert action has more churn users,also for the downgrade action."
   ]
  },
  {
   "cell_type": "code",
   "execution_count": 22,
   "metadata": {},
   "outputs": [
    {
     "name": "stdout",
     "output_type": "stream",
     "text": [
      "+----------------+\n",
      "|operating_system|\n",
      "+----------------+\n",
      "|            iPad|\n",
      "|          iPhone|\n",
      "|           Linux|\n",
      "|             Mac|\n",
      "|         Windows|\n",
      "+----------------+\n",
      "\n"
     ]
    }
   ],
   "source": [
    "# now let's work on the user agent or the operating system we will use regular expression here\n",
    "\n",
    "map = {'Compatible': 'Windows', 'Ipad': 'iPad', 'Iphone': 'iPhone', 'Macintosh': 'Mac',  \n",
    "       'Windows nt 5.1': 'Windows', 'Windows nt 6.0': 'Windows', 'Windows nt 6.1': 'Windows', \n",
    "       'Windows nt 6.2': 'Windows',  'Windows nt 6.3': 'Windows', 'X11': 'Linux'}\n",
    "\n",
    "get_operating_sys = udf(lambda x: map[re.findall('\\(([^\\)]*)\\)', x)[0].split(';')[0].capitalize()])\n",
    "df_system = df_churn.withColumn('operating_system', get_operating_sys(df_churn.userAgent))\n",
    "df_system.select('operating_system').distinct().show(5)"
   ]
  },
  {
   "cell_type": "code",
   "execution_count": 23,
   "metadata": {},
   "outputs": [
    {
     "data": {
      "text/plain": [
       "<matplotlib.legend.Legend at 0x7fd178520390>"
      ]
     },
     "execution_count": 23,
     "metadata": {},
     "output_type": "execute_result"
    },
    {
     "data": {
      "image/png": "[encoded data removed]",
      "text/plain": [
       "<matplotlib.figure.Figure at 0x7fd178621f60>"
      ]
     },
     "metadata": {
      "needs_background": "light"
     },
     "output_type": "display_data"
    }
   ],
   "source": [
    "df_system_count = df_system.select(['userId', 'churn', 'operating_system']).dropDuplicates().groupby([\"churn\", \"operating_system\"]).count().toPandas()\n",
    "\n",
    "\n",
    "plt.figure(figsize=[20,16])\n",
    "\n",
    "ax_System = sns.barplot(x='count', y='operating_system', hue='churn', data=df_system_count)\n",
    "plt.xlabel('churned or not?')\n",
    "plt.ylabel('Operating System')\n",
    "plt.legend(title='Page', loc='best')\n"
   ]
  },
  {
   "cell_type": "markdown",
   "metadata": {},
   "source": [
    "i don't see here any diffrent between operating systems used so this feature doesn't interest us in building the model"
   ]
  },
  {
   "cell_type": "code",
   "execution_count": 24,
   "metadata": {},
   "outputs": [
    {
     "data": {
      "text/plain": [
       "Text(0,0.5,'Count')"
      ]
     },
     "execution_count": 24,
     "metadata": {},
     "output_type": "execute_result"
    },
    {
     "data": {
      "image/png": "[encoded data removed]",
      "text/plain": [
       "<matplotlib.figure.Figure at 0x7fd1784a79e8>"
      ]
     },
     "metadata": {
      "needs_background": "light"
     },
     "output_type": "display_data"
    }
   ],
   "source": [
    "# now we wanna see how many hours used, by striping from the timestamp\n",
    "\n",
    "strp_hour = udf(lambda x: datetime.datetime.fromtimestamp(x / 1000.0). hour)\n",
    "\n",
    "df_churn = df_churn.withColumn(\"Hour\", strp_hour(df_churn.ts))\n",
    "\n",
    "Hour_churn = df_churn.filter(df_churn.churn == 1).groupby([\"Hour\"]).count().toPandas().sort_values(by = \"count\", ascending = False)\n",
    "\n",
    "ax_Hours_churn = sns.barplot(x='Hour', y='count', data=Hour_churn)\n",
    "plt.xlabel('Hour')\n",
    "plt.ylabel('Count')\n"
   ]
  },
  {
   "cell_type": "code",
   "execution_count": 25,
   "metadata": {},
   "outputs": [
    {
     "data": {
      "text/plain": [
       "Text(0,0.5,'Count')"
      ]
     },
     "execution_count": 25,
     "metadata": {},
     "output_type": "execute_result"
    },
    {
     "data": {
      "image/png": "[encoded data removed]",
      "text/plain": [
       "<matplotlib.figure.Figure at 0x7fd1784acef0>"
      ]
     },
     "metadata": {
      "needs_background": "light"
     },
     "output_type": "display_data"
    }
   ],
   "source": [
    "Hour_NotChurn = df_churn.filter(df_churn.churn == 0).groupby([\"Hour\"]).count().toPandas().sort_values(by = \"count\", ascending = False)\n",
    "\n",
    "ax_Hours_Notchurn = sns.barplot(x='Hour', y='count', data=Hour_NotChurn)\n",
    "plt.xlabel('Hour')\n",
    "plt.ylabel('Count')\n",
    "#plt.legend(title='Page', loc='best')\n"
   ]
  },
  {
   "cell_type": "markdown",
   "metadata": {},
   "source": [
    "it appears that from the plots above,the churn users or not has similarity in terms of ditributions for hours, so it makes no diffrence if it churn or not."
   ]
  },
  {
   "cell_type": "code",
   "execution_count": 26,
   "metadata": {},
   "outputs": [
    {
     "name": "stdout",
     "output_type": "stream",
     "text": [
      "+------+------------------+\n",
      "|userId|        avg(count)|\n",
      "+------+------------------+\n",
      "|100010|39.285714285714285|\n",
      "|200002|              64.5|\n",
      "|   125|               8.0|\n",
      "|    51|             211.1|\n",
      "|   124|145.67857142857142|\n",
      "+------+------------------+\n",
      "only showing top 5 rows\n",
      "\n",
      "+-----------------+\n",
      "|  avg(avg(count))|\n",
      "+-----------------+\n",
      "|70.78971233958933|\n",
      "+-----------------+\n",
      "\n"
     ]
    },
    {
     "data": {
      "image/png": "[encoded data removed]",
      "text/plain": [
       "<matplotlib.figure.Figure at 0x7fd1783da438>"
      ]
     },
     "metadata": {
      "needs_background": "light"
     },
     "output_type": "display_data"
    }
   ],
   "source": [
    "# How many song played this user? , we need this in order to build our model\n",
    "\n",
    "num_song_played =df_churn.filter(df_churn.page == \"NextSong\").select([\"song\",\"userId\",\"sessionId\"]).groupby(\"userId\",\"sessionId\").count()\n",
    "\n",
    "# now we will get the average song played per user \n",
    "\n",
    "avg_num_song_played = num_song_played.groupby(\"userId\").agg({\"count\":\"avg\"})\n",
    "avg_num_song_played.show(5)\n",
    "\n",
    "#bin_edges = np.arange (10, avg_num_song_played['count'].max()+25, 25)\n",
    "plt.hist(data = avg_num_song_played.toPandas(), x = 'avg(count)')\n",
    "#plt.xlim(0,700)\n",
    "plt.xlabel('songs_played')\n",
    "plt.ylabel('Frequency');\n",
    "num_song_played.groupby(\"userId\").agg({\"count\":\"avg\"}).agg({\"avg(count)\":\"avg\"}).show()"
   ]
  },
  {
   "cell_type": "markdown",
   "metadata": {},
   "source": [
    "Here we see from the plot and statistics above that users have an average of 70.79 songs listened to while using the platform, also i observe that there's some outliers."
   ]
  },
  {
   "cell_type": "code",
   "execution_count": 27,
   "metadata": {},
   "outputs": [
    {
     "data": {
      "image/png": "[encoded data removed]",
      "text/plain": [
       "<matplotlib.figure.Figure at 0x7fd178281b00>"
      ]
     },
     "metadata": {
      "needs_background": "light"
     },
     "output_type": "display_data"
    }
   ],
   "source": [
    "# since when the user been registered (in days)\n",
    "\n",
    "days_registered = df_churn.select('userId','ts','registration','churn').withColumn(\n",
    "    'days_member',((df_churn.ts - df_churn.registration)/1000/3600/24)).groupBy('userId','churn').agg(\n",
    "    {'days_member':'max'}).withColumnRenamed('max(days_member)','days_member') \n",
    "\n",
    "days_registered = days_registered.toPandas()\n",
    "\n",
    "plt.figure(figsize=[8,6])\n",
    "sns.boxplot(data = days_registered, x = 'churn', y ='days_member')\n",
    "plt.title('Count of Users that Churned vs. Users that Stayed by Days Since Registering')\n",
    "plt.ylabel(\"Days Since Registered\");"
   ]
  },
  {
   "cell_type": "markdown",
   "metadata": {},
   "source": [
    "We see here that when the user are registered for a long time it stays loyal to the platform"
   ]
  },
  {
   "cell_type": "code",
   "execution_count": 28,
   "metadata": {},
   "outputs": [
    {
     "data": {
      "image/png": "[encoded data removed]",
      "text/plain": [
       "<matplotlib.figure.Figure at 0x7fd168fbb358>"
      ]
     },
     "metadata": {
      "needs_background": "light"
     },
     "output_type": "display_data"
    }
   ],
   "source": [
    "# let's now work on the number of listened artist for each user\n",
    "\n",
    "Artist_count = df_churn.select('userId', 'artist','churn').dropDuplicates().groupby('churn','userId').count().toPandas()\n",
    "\n",
    "Artist_count.groupby('churn').mean()\n",
    "\n",
    "plt.figure(figsize=[8,6])\n",
    "sns.boxplot(data = Artist_count, x = 'churn', y ='count')\n",
    "plt.title('Number of artist listend to by a user for churn and not')\n",
    "plt.ylabel(\"Number of listend artist\");"
   ]
  },
  {
   "cell_type": "markdown",
   "metadata": {},
   "source": [
    "I see that there's a big diffrence between the two so difenetley we will be adding this feature to our model."
   ]
  },
  {
   "cell_type": "markdown",
   "metadata": {},
   "source": [
    "# Feature Engineering\n",
    "Once you've familiarized yourself with the data, build out the features you find promising to train your model on. To work with the full dataset, you can follow the following steps.\n",
    "- Write a script to extract the necessary features from the smaller subset of data\n",
    "- Ensure that your script is scalable, using the best practices discussed in Lesson 3\n",
    "- Try your script on the full data set, debugging your script if necessary\n",
    "\n",
    "If you are working in the classroom workspace, you can just extract features based on the small subset of data contained here. Be sure to transfer over this work to the larger dataset when you work on your Spark cluster."
   ]
  },
  {
   "cell_type": "markdown",
   "metadata": {},
   "source": [
    "### After Exploring some data, we can now take the features (Variables) we need in order to build our data before modeling part."
   ]
  },
  {
   "cell_type": "markdown",
   "metadata": {},
   "source": [
    "### The Variables we will be using for building our model is mentioned below:\n",
    "   #### 1.Gender (Categorical)\n",
    "   #### 2.Level (Categorical)\n",
    "   #### 3.Avg. of songs listend to by a user. (Numerical)\n",
    "   #### 4.Number of days since registered. (Numerical)\n",
    "   #### 5.Page Actions which have 6 Features will be added (HomeAction,AddToPlaylist,AddFriend,ThumbsUp,ThumbsDown,RollAdvert) All Numerical\n",
    "   #### 6.Num of artist listened to by a user (Numerical)"
   ]
  },
  {
   "cell_type": "code",
   "execution_count": 29,
   "metadata": {},
   "outputs": [
    {
     "data": {
      "text/html": [
       "<div>\n",
       "<style scoped>\n",
       "    .dataframe tbody tr th:only-of-type {\n",
       "        vertical-align: middle;\n",
       "    }\n",
       "\n",
       "    .dataframe tbody tr th {\n",
       "        vertical-align: top;\n",
       "    }\n",
       "\n",
       "    .dataframe thead th {\n",
       "        text-align: right;\n",
       "    }\n",
       "</style>\n",
       "<table border=\"1\" class=\"dataframe\">\n",
       "  <thead>\n",
       "    <tr style=\"text-align: right;\">\n",
       "      <th></th>\n",
       "      <th>gender</th>\n",
       "      <th>userId</th>\n",
       "    </tr>\n",
       "  </thead>\n",
       "  <tbody>\n",
       "    <tr>\n",
       "      <th>0</th>\n",
       "      <td>0</td>\n",
       "      <td>100008</td>\n",
       "    </tr>\n",
       "    <tr>\n",
       "      <th>1</th>\n",
       "      <td>1</td>\n",
       "      <td>38</td>\n",
       "    </tr>\n",
       "    <tr>\n",
       "      <th>2</th>\n",
       "      <td>0</td>\n",
       "      <td>154</td>\n",
       "    </tr>\n",
       "    <tr>\n",
       "      <th>3</th>\n",
       "      <td>0</td>\n",
       "      <td>200021</td>\n",
       "    </tr>\n",
       "    <tr>\n",
       "      <th>4</th>\n",
       "      <td>0</td>\n",
       "      <td>36</td>\n",
       "    </tr>\n",
       "  </tbody>\n",
       "</table>\n",
       "</div>"
      ],
      "text/plain": [
       "   gender  userId\n",
       "0       0  100008\n",
       "1       1      38\n",
       "2       0     154\n",
       "3       0  200021\n",
       "4       0      36"
      ]
     },
     "execution_count": 29,
     "metadata": {},
     "output_type": "execute_result"
    }
   ],
   "source": [
    "# the first feature will be the gender \n",
    "\n",
    "gender_col = df_churn.select('gender','userId').dropDuplicates().toPandas()\n",
    "\n",
    "#gender_col = gender_col.replace('M', '1', 'gender')\n",
    "#gender_col = gender_col.replace('F', '0', 'gender')\n",
    "gender_col['gender'] = gender_col['gender'].replace(\"M\", 1)\n",
    "gender_col['gender'] = gender_col['gender'].replace(\"F\", 0)\n",
    "gender_col.head()\n",
    "#gender_col.show(10)"
   ]
  },
  {
   "cell_type": "code",
   "execution_count": 30,
   "metadata": {},
   "outputs": [
    {
     "data": {
      "text/html": [
       "<div>\n",
       "<style scoped>\n",
       "    .dataframe tbody tr th:only-of-type {\n",
       "        vertical-align: middle;\n",
       "    }\n",
       "\n",
       "    .dataframe tbody tr th {\n",
       "        vertical-align: top;\n",
       "    }\n",
       "\n",
       "    .dataframe thead th {\n",
       "        text-align: right;\n",
       "    }\n",
       "</style>\n",
       "<table border=\"1\" class=\"dataframe\">\n",
       "  <thead>\n",
       "    <tr style=\"text-align: right;\">\n",
       "      <th></th>\n",
       "      <th>level</th>\n",
       "      <th>userId</th>\n",
       "    </tr>\n",
       "  </thead>\n",
       "  <tbody>\n",
       "    <tr>\n",
       "      <th>207726</th>\n",
       "      <td>0</td>\n",
       "      <td>100011</td>\n",
       "    </tr>\n",
       "    <tr>\n",
       "      <th>208142</th>\n",
       "      <td>0</td>\n",
       "      <td>100001</td>\n",
       "    </tr>\n",
       "    <tr>\n",
       "      <th>10588</th>\n",
       "      <td>0</td>\n",
       "      <td>135</td>\n",
       "    </tr>\n",
       "    <tr>\n",
       "      <th>209036</th>\n",
       "      <td>0</td>\n",
       "      <td>100024</td>\n",
       "    </tr>\n",
       "    <tr>\n",
       "      <th>243819</th>\n",
       "      <td>1</td>\n",
       "      <td>300007</td>\n",
       "    </tr>\n",
       "  </tbody>\n",
       "</table>\n",
       "</div>"
      ],
      "text/plain": [
       "        level  userId\n",
       "207726      0  100011\n",
       "208142      0  100001\n",
       "10588       0     135\n",
       "209036      0  100024\n",
       "243819      1  300007"
      ]
     },
     "execution_count": 30,
     "metadata": {},
     "output_type": "execute_result"
    }
   ],
   "source": [
    "# the second feature will be the level, we need the latest value so we will be sorting by the date then take the latest value\n",
    "\n",
    "level_col = df_churn.select('level','userId', 'ts').toPandas().sort_values(by='ts').drop_duplicates('userId', keep='last')\n",
    "\n",
    "level_col['level'] = level_col['level'].replace(\"paid\", 1)\n",
    "level_col['level'] = level_col['level'].replace(\"free\", 0)\n",
    "level_col = level_col.drop('ts', axis = 1)\n",
    "level_col.head()\n",
    "\n"
   ]
  },
  {
   "cell_type": "code",
   "execution_count": 31,
   "metadata": {
    "scrolled": true
   },
   "outputs": [
    {
     "data": {
      "text/html": [
       "<div>\n",
       "<style scoped>\n",
       "    .dataframe tbody tr th:only-of-type {\n",
       "        vertical-align: middle;\n",
       "    }\n",
       "\n",
       "    .dataframe tbody tr th {\n",
       "        vertical-align: top;\n",
       "    }\n",
       "\n",
       "    .dataframe thead th {\n",
       "        text-align: right;\n",
       "    }\n",
       "</style>\n",
       "<table border=\"1\" class=\"dataframe\">\n",
       "  <thead>\n",
       "    <tr style=\"text-align: right;\">\n",
       "      <th></th>\n",
       "      <th>userId</th>\n",
       "      <th>avg_num_songs</th>\n",
       "    </tr>\n",
       "  </thead>\n",
       "  <tbody>\n",
       "    <tr>\n",
       "      <th>0</th>\n",
       "      <td>100010</td>\n",
       "      <td>39.285714</td>\n",
       "    </tr>\n",
       "    <tr>\n",
       "      <th>1</th>\n",
       "      <td>200002</td>\n",
       "      <td>64.500000</td>\n",
       "    </tr>\n",
       "    <tr>\n",
       "      <th>2</th>\n",
       "      <td>125</td>\n",
       "      <td>8.000000</td>\n",
       "    </tr>\n",
       "    <tr>\n",
       "      <th>3</th>\n",
       "      <td>51</td>\n",
       "      <td>211.100000</td>\n",
       "    </tr>\n",
       "    <tr>\n",
       "      <th>4</th>\n",
       "      <td>124</td>\n",
       "      <td>145.678571</td>\n",
       "    </tr>\n",
       "    <tr>\n",
       "      <th>5</th>\n",
       "      <td>7</td>\n",
       "      <td>21.428571</td>\n",
       "    </tr>\n",
       "    <tr>\n",
       "      <th>6</th>\n",
       "      <td>54</td>\n",
       "      <td>81.171429</td>\n",
       "    </tr>\n",
       "    <tr>\n",
       "      <th>7</th>\n",
       "      <td>15</td>\n",
       "      <td>136.714286</td>\n",
       "    </tr>\n",
       "    <tr>\n",
       "      <th>8</th>\n",
       "      <td>155</td>\n",
       "      <td>136.666667</td>\n",
       "    </tr>\n",
       "    <tr>\n",
       "      <th>9</th>\n",
       "      <td>100014</td>\n",
       "      <td>42.833333</td>\n",
       "    </tr>\n",
       "  </tbody>\n",
       "</table>\n",
       "</div>"
      ],
      "text/plain": [
       "   userId  avg_num_songs\n",
       "0  100010      39.285714\n",
       "1  200002      64.500000\n",
       "2     125       8.000000\n",
       "3      51     211.100000\n",
       "4     124     145.678571\n",
       "5       7      21.428571\n",
       "6      54      81.171429\n",
       "7      15     136.714286\n",
       "8     155     136.666667\n",
       "9  100014      42.833333"
      ]
     },
     "execution_count": 31,
     "metadata": {},
     "output_type": "execute_result"
    }
   ],
   "source": [
    "# our third feature would be the Avg number of songs which is ready and we did make this feature ready in the exploration part\n",
    "# we just now to make a cleaning and transforming step\n",
    "\n",
    "avg_num_songs = avg_num_song_played.toPandas().rename(columns = {'avg(count)' : 'avg_num_songs'})\n",
    "\n",
    "avg_num_songs.head(10)"
   ]
  },
  {
   "cell_type": "code",
   "execution_count": 32,
   "metadata": {
    "scrolled": true
   },
   "outputs": [
    {
     "data": {
      "text/html": [
       "<div>\n",
       "<style scoped>\n",
       "    .dataframe tbody tr th:only-of-type {\n",
       "        vertical-align: middle;\n",
       "    }\n",
       "\n",
       "    .dataframe tbody tr th {\n",
       "        vertical-align: top;\n",
       "    }\n",
       "\n",
       "    .dataframe thead th {\n",
       "        text-align: right;\n",
       "    }\n",
       "</style>\n",
       "<table border=\"1\" class=\"dataframe\">\n",
       "  <thead>\n",
       "    <tr style=\"text-align: right;\">\n",
       "      <th></th>\n",
       "      <th>userId</th>\n",
       "      <th>days_member</th>\n",
       "    </tr>\n",
       "  </thead>\n",
       "  <tbody>\n",
       "    <tr>\n",
       "      <th>0</th>\n",
       "      <td>100010</td>\n",
       "      <td>55.643657</td>\n",
       "    </tr>\n",
       "    <tr>\n",
       "      <th>1</th>\n",
       "      <td>200002</td>\n",
       "      <td>70.074630</td>\n",
       "    </tr>\n",
       "    <tr>\n",
       "      <th>2</th>\n",
       "      <td>125</td>\n",
       "      <td>71.316887</td>\n",
       "    </tr>\n",
       "    <tr>\n",
       "      <th>3</th>\n",
       "      <td>124</td>\n",
       "      <td>131.555914</td>\n",
       "    </tr>\n",
       "    <tr>\n",
       "      <th>4</th>\n",
       "      <td>51</td>\n",
       "      <td>19.455845</td>\n",
       "    </tr>\n",
       "    <tr>\n",
       "      <th>5</th>\n",
       "      <td>7</td>\n",
       "      <td>72.778183</td>\n",
       "    </tr>\n",
       "    <tr>\n",
       "      <th>6</th>\n",
       "      <td>15</td>\n",
       "      <td>56.513576</td>\n",
       "    </tr>\n",
       "    <tr>\n",
       "      <th>7</th>\n",
       "      <td>54</td>\n",
       "      <td>110.751690</td>\n",
       "    </tr>\n",
       "    <tr>\n",
       "      <th>8</th>\n",
       "      <td>155</td>\n",
       "      <td>23.556019</td>\n",
       "    </tr>\n",
       "    <tr>\n",
       "      <th>9</th>\n",
       "      <td>100014</td>\n",
       "      <td>85.083403</td>\n",
       "    </tr>\n",
       "  </tbody>\n",
       "</table>\n",
       "</div>"
      ],
      "text/plain": [
       "   userId  days_member\n",
       "0  100010    55.643657\n",
       "1  200002    70.074630\n",
       "2     125    71.316887\n",
       "3     124   131.555914\n",
       "4      51    19.455845\n",
       "5       7    72.778183\n",
       "6      15    56.513576\n",
       "7      54   110.751690\n",
       "8     155    23.556019\n",
       "9  100014    85.083403"
      ]
     },
     "execution_count": 32,
     "metadata": {},
     "output_type": "execute_result"
    }
   ],
   "source": [
    "# now for the next feature it would be the Days since Registered for each user , it is a numeric feature\n",
    "days_registered = days_registered.drop('churn', axis = 1)\n",
    "days_registered.head(10)"
   ]
  },
  {
   "cell_type": "code",
   "execution_count": 33,
   "metadata": {},
   "outputs": [
    {
     "data": {
      "text/html": [
       "<div>\n",
       "<style scoped>\n",
       "    .dataframe tbody tr th:only-of-type {\n",
       "        vertical-align: middle;\n",
       "    }\n",
       "\n",
       "    .dataframe tbody tr th {\n",
       "        vertical-align: top;\n",
       "    }\n",
       "\n",
       "    .dataframe thead th {\n",
       "        text-align: right;\n",
       "    }\n",
       "</style>\n",
       "<table border=\"1\" class=\"dataframe\">\n",
       "  <thead>\n",
       "    <tr style=\"text-align: right;\">\n",
       "      <th></th>\n",
       "      <th>page</th>\n",
       "      <th>userId</th>\n",
       "    </tr>\n",
       "  </thead>\n",
       "  <tbody>\n",
       "    <tr>\n",
       "      <th>0</th>\n",
       "      <td>NextSong</td>\n",
       "      <td>30</td>\n",
       "    </tr>\n",
       "    <tr>\n",
       "      <th>1</th>\n",
       "      <td>NextSong</td>\n",
       "      <td>9</td>\n",
       "    </tr>\n",
       "    <tr>\n",
       "      <th>2</th>\n",
       "      <td>NextSong</td>\n",
       "      <td>30</td>\n",
       "    </tr>\n",
       "    <tr>\n",
       "      <th>3</th>\n",
       "      <td>NextSong</td>\n",
       "      <td>9</td>\n",
       "    </tr>\n",
       "    <tr>\n",
       "      <th>4</th>\n",
       "      <td>NextSong</td>\n",
       "      <td>30</td>\n",
       "    </tr>\n",
       "  </tbody>\n",
       "</table>\n",
       "</div>"
      ],
      "text/plain": [
       "       page userId\n",
       "0  NextSong     30\n",
       "1  NextSong      9\n",
       "2  NextSong     30\n",
       "3  NextSong      9\n",
       "4  NextSong     30"
      ]
     },
     "execution_count": 33,
     "metadata": {},
     "output_type": "execute_result"
    }
   ],
   "source": [
    "# now we want to make some features from the 'page' column\n",
    "# as we say earlier in the exploration part for the page,\n",
    "# some of the actions appears to be affect weather user have churn or not.\n",
    "# these actions are \"Home\",\"roll advert\", \"added to playlist\" , \"thumps down\", \"thumps up\", and \"friend added\"\n",
    "\n",
    "# first let's select the page column\n",
    "\n",
    "Actions_df = df_churn.select('page','userId').toPandas()\n",
    "Actions_df.head()"
   ]
  },
  {
   "cell_type": "code",
   "execution_count": 34,
   "metadata": {},
   "outputs": [],
   "source": [
    "# next we use the get_dummies function which makes everything easy for us\n",
    "\n",
    "Actions_df = pd.get_dummies(Actions_df,columns=['page'], prefix='Action_')"
   ]
  },
  {
   "cell_type": "code",
   "execution_count": 35,
   "metadata": {},
   "outputs": [
    {
     "data": {
      "text/html": [
       "<div>\n",
       "<style scoped>\n",
       "    .dataframe tbody tr th:only-of-type {\n",
       "        vertical-align: middle;\n",
       "    }\n",
       "\n",
       "    .dataframe tbody tr th {\n",
       "        vertical-align: top;\n",
       "    }\n",
       "\n",
       "    .dataframe thead th {\n",
       "        text-align: right;\n",
       "    }\n",
       "</style>\n",
       "<table border=\"1\" class=\"dataframe\">\n",
       "  <thead>\n",
       "    <tr style=\"text-align: right;\">\n",
       "      <th></th>\n",
       "      <th>userId</th>\n",
       "      <th>Action__Add to Playlist</th>\n",
       "      <th>Action__Add Friend</th>\n",
       "      <th>Action__Thumbs Down</th>\n",
       "      <th>Action__Thumbs Up</th>\n",
       "      <th>Action__Home</th>\n",
       "      <th>Action__Roll Advert</th>\n",
       "    </tr>\n",
       "  </thead>\n",
       "  <tbody>\n",
       "    <tr>\n",
       "      <th>0</th>\n",
       "      <td>30</td>\n",
       "      <td>0</td>\n",
       "      <td>0</td>\n",
       "      <td>0</td>\n",
       "      <td>0</td>\n",
       "      <td>0</td>\n",
       "      <td>0</td>\n",
       "    </tr>\n",
       "    <tr>\n",
       "      <th>1</th>\n",
       "      <td>9</td>\n",
       "      <td>0</td>\n",
       "      <td>0</td>\n",
       "      <td>0</td>\n",
       "      <td>0</td>\n",
       "      <td>0</td>\n",
       "      <td>0</td>\n",
       "    </tr>\n",
       "    <tr>\n",
       "      <th>2</th>\n",
       "      <td>30</td>\n",
       "      <td>0</td>\n",
       "      <td>0</td>\n",
       "      <td>0</td>\n",
       "      <td>0</td>\n",
       "      <td>0</td>\n",
       "      <td>0</td>\n",
       "    </tr>\n",
       "    <tr>\n",
       "      <th>3</th>\n",
       "      <td>9</td>\n",
       "      <td>0</td>\n",
       "      <td>0</td>\n",
       "      <td>0</td>\n",
       "      <td>0</td>\n",
       "      <td>0</td>\n",
       "      <td>0</td>\n",
       "    </tr>\n",
       "    <tr>\n",
       "      <th>4</th>\n",
       "      <td>30</td>\n",
       "      <td>0</td>\n",
       "      <td>0</td>\n",
       "      <td>0</td>\n",
       "      <td>0</td>\n",
       "      <td>0</td>\n",
       "      <td>0</td>\n",
       "    </tr>\n",
       "  </tbody>\n",
       "</table>\n",
       "</div>"
      ],
      "text/plain": [
       "  userId  Action__Add to Playlist  Action__Add Friend  Action__Thumbs Down  \\\n",
       "0     30                        0                   0                    0   \n",
       "1      9                        0                   0                    0   \n",
       "2     30                        0                   0                    0   \n",
       "3      9                        0                   0                    0   \n",
       "4     30                        0                   0                    0   \n",
       "\n",
       "   Action__Thumbs Up  Action__Home  Action__Roll Advert  \n",
       "0                  0             0                    0  \n",
       "1                  0             0                    0  \n",
       "2                  0             0                    0  \n",
       "3                  0             0                    0  \n",
       "4                  0             0                    0  "
      ]
     },
     "execution_count": 35,
     "metadata": {},
     "output_type": "execute_result"
    }
   ],
   "source": [
    "# then we select the columns we need after pivoting the value to columns\n",
    "\n",
    "Actions_df_final = Actions_df.loc[:, ['userId','Action__Add to Playlist', 'Action__Add Friend','Action__Thumbs Down',\n",
    "                             'Action__Thumbs Up', 'Action__Home','Action__Roll Advert']]\n",
    "\n",
    "Actions_df_final.head()\n"
   ]
  },
  {
   "cell_type": "code",
   "execution_count": 36,
   "metadata": {},
   "outputs": [
    {
     "data": {
      "text/html": [
       "<div>\n",
       "<style scoped>\n",
       "    .dataframe tbody tr th:only-of-type {\n",
       "        vertical-align: middle;\n",
       "    }\n",
       "\n",
       "    .dataframe tbody tr th {\n",
       "        vertical-align: top;\n",
       "    }\n",
       "\n",
       "    .dataframe thead th {\n",
       "        text-align: right;\n",
       "    }\n",
       "</style>\n",
       "<table border=\"1\" class=\"dataframe\">\n",
       "  <thead>\n",
       "    <tr style=\"text-align: right;\">\n",
       "      <th></th>\n",
       "      <th>userId</th>\n",
       "      <th>Action__Add to Playlist</th>\n",
       "      <th>Action__Add Friend</th>\n",
       "      <th>Action__Thumbs Down</th>\n",
       "      <th>Action__Thumbs Up</th>\n",
       "      <th>Action__Home</th>\n",
       "      <th>Action__Roll Advert</th>\n",
       "    </tr>\n",
       "  </thead>\n",
       "  <tbody>\n",
       "    <tr>\n",
       "      <th>0</th>\n",
       "      <td>10</td>\n",
       "      <td>9.0</td>\n",
       "      <td>12.0</td>\n",
       "      <td>4.0</td>\n",
       "      <td>37.0</td>\n",
       "      <td>30.0</td>\n",
       "      <td>1.0</td>\n",
       "    </tr>\n",
       "    <tr>\n",
       "      <th>1</th>\n",
       "      <td>100</td>\n",
       "      <td>61.0</td>\n",
       "      <td>49.0</td>\n",
       "      <td>27.0</td>\n",
       "      <td>148.0</td>\n",
       "      <td>105.0</td>\n",
       "      <td>25.0</td>\n",
       "    </tr>\n",
       "    <tr>\n",
       "      <th>2</th>\n",
       "      <td>100001</td>\n",
       "      <td>3.0</td>\n",
       "      <td>2.0</td>\n",
       "      <td>2.0</td>\n",
       "      <td>8.0</td>\n",
       "      <td>11.0</td>\n",
       "      <td>14.0</td>\n",
       "    </tr>\n",
       "    <tr>\n",
       "      <th>3</th>\n",
       "      <td>100002</td>\n",
       "      <td>5.0</td>\n",
       "      <td>1.0</td>\n",
       "      <td>0.0</td>\n",
       "      <td>5.0</td>\n",
       "      <td>6.0</td>\n",
       "      <td>3.0</td>\n",
       "    </tr>\n",
       "    <tr>\n",
       "      <th>4</th>\n",
       "      <td>100003</td>\n",
       "      <td>2.0</td>\n",
       "      <td>0.0</td>\n",
       "      <td>0.0</td>\n",
       "      <td>3.0</td>\n",
       "      <td>7.0</td>\n",
       "      <td>9.0</td>\n",
       "    </tr>\n",
       "    <tr>\n",
       "      <th>5</th>\n",
       "      <td>100004</td>\n",
       "      <td>23.0</td>\n",
       "      <td>19.0</td>\n",
       "      <td>11.0</td>\n",
       "      <td>35.0</td>\n",
       "      <td>66.0</td>\n",
       "      <td>86.0</td>\n",
       "    </tr>\n",
       "    <tr>\n",
       "      <th>6</th>\n",
       "      <td>100005</td>\n",
       "      <td>3.0</td>\n",
       "      <td>3.0</td>\n",
       "      <td>3.0</td>\n",
       "      <td>7.0</td>\n",
       "      <td>15.0</td>\n",
       "      <td>18.0</td>\n",
       "    </tr>\n",
       "    <tr>\n",
       "      <th>7</th>\n",
       "      <td>100006</td>\n",
       "      <td>1.0</td>\n",
       "      <td>4.0</td>\n",
       "      <td>2.0</td>\n",
       "      <td>2.0</td>\n",
       "      <td>2.0</td>\n",
       "      <td>3.0</td>\n",
       "    </tr>\n",
       "    <tr>\n",
       "      <th>8</th>\n",
       "      <td>100007</td>\n",
       "      <td>9.0</td>\n",
       "      <td>17.0</td>\n",
       "      <td>6.0</td>\n",
       "      <td>19.0</td>\n",
       "      <td>20.0</td>\n",
       "      <td>5.0</td>\n",
       "    </tr>\n",
       "    <tr>\n",
       "      <th>9</th>\n",
       "      <td>100008</td>\n",
       "      <td>30.0</td>\n",
       "      <td>17.0</td>\n",
       "      <td>6.0</td>\n",
       "      <td>37.0</td>\n",
       "      <td>24.0</td>\n",
       "      <td>20.0</td>\n",
       "    </tr>\n",
       "  </tbody>\n",
       "</table>\n",
       "</div>"
      ],
      "text/plain": [
       "   userId  Action__Add to Playlist  Action__Add Friend  Action__Thumbs Down  \\\n",
       "0      10                      9.0                12.0                  4.0   \n",
       "1     100                     61.0                49.0                 27.0   \n",
       "2  100001                      3.0                 2.0                  2.0   \n",
       "3  100002                      5.0                 1.0                  0.0   \n",
       "4  100003                      2.0                 0.0                  0.0   \n",
       "5  100004                     23.0                19.0                 11.0   \n",
       "6  100005                      3.0                 3.0                  3.0   \n",
       "7  100006                      1.0                 4.0                  2.0   \n",
       "8  100007                      9.0                17.0                  6.0   \n",
       "9  100008                     30.0                17.0                  6.0   \n",
       "\n",
       "   Action__Thumbs Up  Action__Home  Action__Roll Advert  \n",
       "0               37.0          30.0                  1.0  \n",
       "1              148.0         105.0                 25.0  \n",
       "2                8.0          11.0                 14.0  \n",
       "3                5.0           6.0                  3.0  \n",
       "4                3.0           7.0                  9.0  \n",
       "5               35.0          66.0                 86.0  \n",
       "6                7.0          15.0                 18.0  \n",
       "7                2.0           2.0                  3.0  \n",
       "8               19.0          20.0                  5.0  \n",
       "9               37.0          24.0                 20.0  "
      ]
     },
     "execution_count": 36,
     "metadata": {},
     "output_type": "execute_result"
    }
   ],
   "source": [
    "Actions_df_final = Actions_df_final.groupby('userId').sum().reset_index()\n",
    "\n",
    "\n",
    "Actions_df_final.head(10)\n",
    "#Actions_df_final[Actions_df_final['userId'] == \"200002\"]"
   ]
  },
  {
   "cell_type": "code",
   "execution_count": 37,
   "metadata": {},
   "outputs": [
    {
     "data": {
      "text/html": [
       "<div>\n",
       "<style scoped>\n",
       "    .dataframe tbody tr th:only-of-type {\n",
       "        vertical-align: middle;\n",
       "    }\n",
       "\n",
       "    .dataframe tbody tr th {\n",
       "        vertical-align: top;\n",
       "    }\n",
       "\n",
       "    .dataframe thead th {\n",
       "        text-align: right;\n",
       "    }\n",
       "</style>\n",
       "<table border=\"1\" class=\"dataframe\">\n",
       "  <thead>\n",
       "    <tr style=\"text-align: right;\">\n",
       "      <th></th>\n",
       "      <th>churn</th>\n",
       "      <th>userId</th>\n",
       "      <th>Artist_Count</th>\n",
       "    </tr>\n",
       "  </thead>\n",
       "  <tbody>\n",
       "    <tr>\n",
       "      <th>0</th>\n",
       "      <td>0</td>\n",
       "      <td>100010</td>\n",
       "      <td>253</td>\n",
       "    </tr>\n",
       "    <tr>\n",
       "      <th>1</th>\n",
       "      <td>0</td>\n",
       "      <td>200002</td>\n",
       "      <td>340</td>\n",
       "    </tr>\n",
       "    <tr>\n",
       "      <th>2</th>\n",
       "      <td>1</td>\n",
       "      <td>125</td>\n",
       "      <td>9</td>\n",
       "    </tr>\n",
       "    <tr>\n",
       "      <th>3</th>\n",
       "      <td>0</td>\n",
       "      <td>124</td>\n",
       "      <td>2233</td>\n",
       "    </tr>\n",
       "    <tr>\n",
       "      <th>4</th>\n",
       "      <td>1</td>\n",
       "      <td>51</td>\n",
       "      <td>1386</td>\n",
       "    </tr>\n",
       "    <tr>\n",
       "      <th>5</th>\n",
       "      <td>0</td>\n",
       "      <td>7</td>\n",
       "      <td>143</td>\n",
       "    </tr>\n",
       "    <tr>\n",
       "      <th>6</th>\n",
       "      <td>0</td>\n",
       "      <td>15</td>\n",
       "      <td>1303</td>\n",
       "    </tr>\n",
       "    <tr>\n",
       "      <th>7</th>\n",
       "      <td>1</td>\n",
       "      <td>54</td>\n",
       "      <td>1745</td>\n",
       "    </tr>\n",
       "    <tr>\n",
       "      <th>8</th>\n",
       "      <td>0</td>\n",
       "      <td>155</td>\n",
       "      <td>644</td>\n",
       "    </tr>\n",
       "    <tr>\n",
       "      <th>9</th>\n",
       "      <td>1</td>\n",
       "      <td>100014</td>\n",
       "      <td>234</td>\n",
       "    </tr>\n",
       "  </tbody>\n",
       "</table>\n",
       "</div>"
      ],
      "text/plain": [
       "   churn  userId  Artist_Count\n",
       "0      0  100010           253\n",
       "1      0  200002           340\n",
       "2      1     125             9\n",
       "3      0     124          2233\n",
       "4      1      51          1386\n",
       "5      0       7           143\n",
       "6      0      15          1303\n",
       "7      1      54          1745\n",
       "8      0     155           644\n",
       "9      1  100014           234"
      ]
     },
     "execution_count": 37,
     "metadata": {},
     "output_type": "execute_result"
    }
   ],
   "source": [
    "# now for the final feature we worked on it in the exploration part which is the number of artist listend to by a user\n",
    "#drop('b', axis=1)\n",
    "Artist_Count = Artist_count.rename(columns = {'count' : 'Artist_Count'})\n",
    "\n",
    "Artist_Count.head(10)"
   ]
  },
  {
   "cell_type": "code",
   "execution_count": 38,
   "metadata": {},
   "outputs": [
    {
     "data": {
      "text/html": [
       "<div>\n",
       "<style scoped>\n",
       "    .dataframe tbody tr th:only-of-type {\n",
       "        vertical-align: middle;\n",
       "    }\n",
       "\n",
       "    .dataframe tbody tr th {\n",
       "        vertical-align: top;\n",
       "    }\n",
       "\n",
       "    .dataframe thead th {\n",
       "        text-align: right;\n",
       "    }\n",
       "</style>\n",
       "<table border=\"1\" class=\"dataframe\">\n",
       "  <thead>\n",
       "    <tr style=\"text-align: right;\">\n",
       "      <th></th>\n",
       "      <th>churn</th>\n",
       "      <th>userId</th>\n",
       "      <th>Artist_Count</th>\n",
       "      <th>Action__Add to Playlist</th>\n",
       "      <th>Action__Add Friend</th>\n",
       "      <th>Action__Thumbs Down</th>\n",
       "      <th>Action__Thumbs Up</th>\n",
       "      <th>Action__Home</th>\n",
       "      <th>Action__Roll Advert</th>\n",
       "      <th>gender</th>\n",
       "      <th>level</th>\n",
       "      <th>days_member</th>\n",
       "      <th>avg_num_songs</th>\n",
       "    </tr>\n",
       "  </thead>\n",
       "  <tbody>\n",
       "    <tr>\n",
       "      <th>0</th>\n",
       "      <td>0</td>\n",
       "      <td>100010</td>\n",
       "      <td>253</td>\n",
       "      <td>7.0</td>\n",
       "      <td>4.0</td>\n",
       "      <td>5.0</td>\n",
       "      <td>17.0</td>\n",
       "      <td>11.0</td>\n",
       "      <td>52.0</td>\n",
       "      <td>0</td>\n",
       "      <td>0</td>\n",
       "      <td>55.643657</td>\n",
       "      <td>39.285714</td>\n",
       "    </tr>\n",
       "    <tr>\n",
       "      <th>1</th>\n",
       "      <td>0</td>\n",
       "      <td>200002</td>\n",
       "      <td>340</td>\n",
       "      <td>8.0</td>\n",
       "      <td>4.0</td>\n",
       "      <td>6.0</td>\n",
       "      <td>21.0</td>\n",
       "      <td>20.0</td>\n",
       "      <td>7.0</td>\n",
       "      <td>1</td>\n",
       "      <td>1</td>\n",
       "      <td>70.074630</td>\n",
       "      <td>64.500000</td>\n",
       "    </tr>\n",
       "    <tr>\n",
       "      <th>2</th>\n",
       "      <td>1</td>\n",
       "      <td>125</td>\n",
       "      <td>9</td>\n",
       "      <td>0.0</td>\n",
       "      <td>0.0</td>\n",
       "      <td>0.0</td>\n",
       "      <td>0.0</td>\n",
       "      <td>0.0</td>\n",
       "      <td>1.0</td>\n",
       "      <td>1</td>\n",
       "      <td>0</td>\n",
       "      <td>71.316887</td>\n",
       "      <td>8.000000</td>\n",
       "    </tr>\n",
       "    <tr>\n",
       "      <th>3</th>\n",
       "      <td>0</td>\n",
       "      <td>124</td>\n",
       "      <td>2233</td>\n",
       "      <td>118.0</td>\n",
       "      <td>74.0</td>\n",
       "      <td>41.0</td>\n",
       "      <td>171.0</td>\n",
       "      <td>176.0</td>\n",
       "      <td>4.0</td>\n",
       "      <td>0</td>\n",
       "      <td>1</td>\n",
       "      <td>131.555914</td>\n",
       "      <td>145.678571</td>\n",
       "    </tr>\n",
       "    <tr>\n",
       "      <th>4</th>\n",
       "      <td>1</td>\n",
       "      <td>51</td>\n",
       "      <td>1386</td>\n",
       "      <td>52.0</td>\n",
       "      <td>28.0</td>\n",
       "      <td>21.0</td>\n",
       "      <td>100.0</td>\n",
       "      <td>75.0</td>\n",
       "      <td>0.0</td>\n",
       "      <td>1</td>\n",
       "      <td>1</td>\n",
       "      <td>19.455845</td>\n",
       "      <td>211.100000</td>\n",
       "    </tr>\n",
       "  </tbody>\n",
       "</table>\n",
       "</div>"
      ],
      "text/plain": [
       "   churn  userId  Artist_Count  Action__Add to Playlist  Action__Add Friend  \\\n",
       "0      0  100010           253                      7.0                 4.0   \n",
       "1      0  200002           340                      8.0                 4.0   \n",
       "2      1     125             9                      0.0                 0.0   \n",
       "3      0     124          2233                    118.0                74.0   \n",
       "4      1      51          1386                     52.0                28.0   \n",
       "\n",
       "   Action__Thumbs Down  Action__Thumbs Up  Action__Home  Action__Roll Advert  \\\n",
       "0                  5.0               17.0          11.0                 52.0   \n",
       "1                  6.0               21.0          20.0                  7.0   \n",
       "2                  0.0                0.0           0.0                  1.0   \n",
       "3                 41.0              171.0         176.0                  4.0   \n",
       "4                 21.0              100.0          75.0                  0.0   \n",
       "\n",
       "   gender  level  days_member  avg_num_songs  \n",
       "0       0      0    55.643657      39.285714  \n",
       "1       1      1    70.074630      64.500000  \n",
       "2       1      0    71.316887       8.000000  \n",
       "3       0      1   131.555914     145.678571  \n",
       "4       1      1    19.455845     211.100000  "
      ]
     },
     "execution_count": 38,
     "metadata": {},
     "output_type": "execute_result"
    }
   ],
   "source": [
    "# now we will merge all the features with our outcome variable which will be the churn\n",
    "\n",
    "data_frames = [Artist_Count,Actions_df_final,gender_col,level_col,days_registered,avg_num_songs]\n",
    "\n",
    "df_final = ft.reduce(lambda left, right: pd.merge(left, right, on='userId'), data_frames)\\\n",
    "\n",
    "\n",
    "df_final.head()"
   ]
  },
  {
   "cell_type": "code",
   "execution_count": 39,
   "metadata": {},
   "outputs": [
    {
     "name": "stdout",
     "output_type": "stream",
     "text": [
      "+-----+------------+-----------------------+------------------+-------------------+-----------------+------------+-------------------+------+-----+------------------+------------------+\n",
      "|churn|Artist_Count|Action__Add to Playlist|Action__Add Friend|Action__Thumbs Down|Action__Thumbs Up|Action__Home|Action__Roll Advert|gender|level|       days_member|     avg_num_songs|\n",
      "+-----+------------+-----------------------+------------------+-------------------+-----------------+------------+-------------------+------+-----+------------------+------------------+\n",
      "|    0|         253|                    7.0|               4.0|                5.0|             17.0|        11.0|               52.0|     0|    0|  55.6436574074074|39.285714285714285|\n",
      "|    0|         340|                    8.0|               4.0|                6.0|             21.0|        20.0|                7.0|     1|    1| 70.07462962962963|              64.5|\n",
      "|    1|           9|                    0.0|               0.0|                0.0|              0.0|         0.0|                1.0|     1|    0| 71.31688657407408|               8.0|\n",
      "|    0|        2233|                  118.0|              74.0|               41.0|            171.0|       176.0|                4.0|     0|    1|131.55591435185184|145.67857142857142|\n",
      "|    1|        1386|                   52.0|              28.0|               21.0|            100.0|        75.0|                0.0|     1|    1|19.455844907407407|             211.1|\n",
      "|    0|         143|                    5.0|               1.0|                1.0|              7.0|        10.0|               16.0|     1|    0| 72.77818287037037|21.428571428571427|\n",
      "|    0|        1303|                   59.0|              31.0|               14.0|             81.0|        93.0|                1.0|     1|    1|56.513576388888886|136.71428571428572|\n",
      "|    1|        1745|                   72.0|              33.0|               29.0|            163.0|       129.0|               47.0|     0|    1|110.75168981481481| 81.17142857142858|\n",
      "|    0|         644|                   24.0|              11.0|                3.0|             58.0|        30.0|                8.0|     0|    1|23.556018518518517|136.66666666666666|\n",
      "|    1|         234|                    7.0|               6.0|                3.0|             17.0|         7.0|                2.0|     1|    1| 85.08340277777778|42.833333333333336|\n",
      "+-----+------------+-----------------------+------------------+-------------------+-----------------+------------+-------------------+------+-----+------------------+------------------+\n",
      "only showing top 10 rows\n",
      "\n"
     ]
    }
   ],
   "source": [
    "df_final = df_final.drop('userId', axis = 1)\n",
    "\n",
    "df_final.apply(pd.to_numeric)\n",
    "\n",
    "df_final = (spark.createDataFrame(df_final))\n",
    "\n",
    "df_final.show(10)"
   ]
  },
  {
   "cell_type": "code",
   "execution_count": 40,
   "metadata": {},
   "outputs": [
    {
     "name": "stdout",
     "output_type": "stream",
     "text": [
      "root\n",
      " |-- churn: long (nullable = true)\n",
      " |-- Artist_Count: long (nullable = true)\n",
      " |-- Action__Add to Playlist: double (nullable = true)\n",
      " |-- Action__Add Friend: double (nullable = true)\n",
      " |-- Action__Thumbs Down: double (nullable = true)\n",
      " |-- Action__Thumbs Up: double (nullable = true)\n",
      " |-- Action__Home: double (nullable = true)\n",
      " |-- Action__Roll Advert: double (nullable = true)\n",
      " |-- gender: long (nullable = true)\n",
      " |-- level: long (nullable = true)\n",
      " |-- days_member: double (nullable = true)\n",
      " |-- avg_num_songs: double (nullable = true)\n",
      "\n"
     ]
    }
   ],
   "source": [
    "df_final.printSchema()\n"
   ]
  },
  {
   "cell_type": "code",
   "execution_count": 41,
   "metadata": {},
   "outputs": [],
   "source": [
    "# now we want to use the vectiorassembler function to put all column in one vector\n",
    "# then using standardscaler to scale all features as shown below.\n",
    "\n",
    "assembler = VectorAssembler(inputCols=df_final.columns[1:],outputCol = \"vector_features\")\n",
    "df_final = assembler.transform(df_final)\n",
    "\n",
    "\n"
   ]
  },
  {
   "cell_type": "code",
   "execution_count": 42,
   "metadata": {},
   "outputs": [],
   "source": [
    "\n",
    "scaler = StandardScaler(inputCol=\"vector_features\", outputCol=\"scaled_features\", withStd=True)\n",
    "scalerModel = scaler.fit(df_final)\n",
    "df_final = scalerModel.transform(df_final)\n"
   ]
  },
  {
   "cell_type": "code",
   "execution_count": 43,
   "metadata": {},
   "outputs": [
    {
     "data": {
      "text/plain": [
       "Row(churn=0, Artist_Count=253, Action__Add to Playlist=7.0, Action__Add Friend=4.0, Action__Thumbs Down=5.0, Action__Thumbs Up=17.0, Action__Home=11.0, Action__Roll Advert=52.0, gender=0, level=0, days_member=55.6436574074074, avg_num_songs=39.285714285714285, vector_features=DenseVector([253.0, 7.0, 4.0, 5.0, 17.0, 11.0, 52.0, 0.0, 0.0, 55.6437, 39.2857]), scaled_features=DenseVector([0.4189, 0.214, 0.1943, 0.3823, 0.2596, 0.2326, 2.413, 0.0, 0.0, 1.4775, 0.9219]))"
      ]
     },
     "execution_count": 43,
     "metadata": {},
     "output_type": "execute_result"
    }
   ],
   "source": [
    "df_final.head()"
   ]
  },
  {
   "cell_type": "markdown",
   "metadata": {},
   "source": [
    "As we Can see above the column scaled_features is now transformed so we can use it as featuers in building the model step."
   ]
  },
  {
   "cell_type": "markdown",
   "metadata": {},
   "source": [
    "# Modeling\n",
    "Split the full dataset into train, test, and validation sets. Test out several of the machine learning methods you learned. Evaluate the accuracy of the various models, tuning parameters as necessary. Determine your winning model based on test accuracy and report results on the validation set. Since the churned users are a fairly small subset, I suggest using F1 score as the metric to optimize.\n",
    "\n",
    "Now after we did some preprocessing and our features are setup, we are now ready to build the models we will first split the data into training and testing, then build the model and choosing our best model, after that tuning parameter for our best model, then to show features importance, finally showing the result and recommendations."
   ]
  },
  {
   "cell_type": "code",
   "execution_count": 44,
   "metadata": {},
   "outputs": [],
   "source": [
    "# Split the data into training, testing, and validation sets\n",
    "(train_df, test_df, validation_df) = df_final.randomSplit([0.6, 0.2, 0.2])\n",
    "\n",
    "# Create a list of models \n",
    "\n",
    "lgr = LogisticRegression(featuresCol = \"scaled_features\", labelCol = \"churn\")\n",
    "svm = LinearSVC(featuresCol = 'scaled_features', labelCol = 'churn')\n",
    "gbt = GBTClassifier(featuresCol = 'scaled_features', labelCol = 'churn')\n",
    "rndmf = RandomForestClassifier(featuresCol = 'scaled_features', labelCol = 'churn')\n",
    "nvb = NaiveBayes(featuresCol = 'scaled_features', labelCol = 'churn')\n"
   ]
  },
  {
   "cell_type": "code",
   "execution_count": null,
   "metadata": {},
   "outputs": [],
   "source": []
  },
  {
   "cell_type": "markdown",
   "metadata": {},
   "source": [
    "The result shows that the best model is  , so we will do next Model Tuning in order to get the best result."
   ]
  },
  {
   "cell_type": "code",
   "execution_count": 45,
   "metadata": {},
   "outputs": [],
   "source": [
    "# lets get train our models then get the results\n",
    "\n",
    "# Logistic_Regression\n",
    "import pyspark.ml.classification as classification\n",
    "import pyspark.ml.evaluation as evaluation\n",
    "\n",
    "evaluator = MulticlassClassificationEvaluator(labelCol = 'churn', predictionCol='prediction')\n",
    "\n",
    "Model_lgr = lgr.fit(train_df)\n",
    "predictions_lgr = Model_lgr.transform(test_df)\n",
    "\n",
    "\n",
    "# Random Forrest\n",
    "\n",
    "Model_rndmf = rndmf.fit(train_df)\n",
    "predictions_rndmf = Model_rndmf.transform(test_df)\n",
    "\n",
    "# SVM\n",
    "\n",
    "Model_svm = svm.fit(train_df)\n",
    "predictions_svm = Model_svm.transform(test_df)\n",
    "\n",
    "# Naive Bayes\n",
    "\n",
    "Model_nvb = nvb.fit(train_df)\n",
    "predictions_nvb = Model_nvb.transform(test_df)\n",
    "\n",
    "#Gradient-Boosted Trees\n",
    "\n",
    "Model_gbt = gbt.fit(train_df)\n",
    "predictions_gbt = Model_gbt.transform(test_df)\n",
    "\n"
   ]
  },
  {
   "cell_type": "code",
   "execution_count": 46,
   "metadata": {},
   "outputs": [
    {
     "name": "stdout",
     "output_type": "stream",
     "text": [
      "Logistic Regression Accuracy: 0.7954545454545454 Logistic Regression F1: 0.7653615041674744 Random Forrest Accuracy: 0.7272727272727273 Random Forrest F1: 0.679144385026738 SVM Accuracy: 0.6590909090909091 SVM F1: 0.5236612702366127 Naive Bayes Accuracy: 0.6590909090909091 Naive Bayes F1: 0.5236612702366127 Gradient-Boosted Trees Accuracy: 0.7272727272727273 Gradient-Boosted Trees F1: 0.7272727272727273\n"
     ]
    }
   ],
   "source": [
    "print(\"Logistic Regression Accuracy:\",evaluator.evaluate(predictions_lgr, {evaluator.metricName: \"accuracy\"}),\n",
    "      \"Logistic Regression F1:\",evaluator.evaluate(predictions_lgr, {evaluator.metricName: \"f1\"}),\n",
    "      \"Random Forrest Accuracy:\",evaluator.evaluate(predictions_rndmf, {evaluator.metricName: \"accuracy\"}),\n",
    "      \"Random Forrest F1:\",evaluator.evaluate(predictions_rndmf, {evaluator.metricName: \"f1\"}),\n",
    "      \"SVM Accuracy:\",evaluator.evaluate(predictions_svm, {evaluator.metricName: \"accuracy\"}),\n",
    "      \"SVM F1:\",evaluator.evaluate(predictions_svm, {evaluator.metricName: \"f1\"}),\n",
    "      \"Naive Bayes Accuracy:\",evaluator.evaluate(predictions_nvb, {evaluator.metricName: \"accuracy\"}),\n",
    "      \"Naive Bayes F1:\",evaluator.evaluate(predictions_nvb, {evaluator.metricName: \"f1\"}),\n",
    "      \"Gradient-Boosted Trees Accuracy:\",evaluator.evaluate(predictions_gbt, {evaluator.metricName: \"accuracy\"}),\n",
    "      \"Gradient-Boosted Trees F1:\",evaluator.evaluate(predictions_gbt, {evaluator.metricName: \"accuracy\"})\n",
    "      )\n"
   ]
  },
  {
   "cell_type": "markdown",
   "metadata": {},
   "source": [
    "We Can see above that the best model is the Logistic Regression with an accuracy 79%  and F1 0.75"
   ]
  },
  {
   "cell_type": "code",
   "execution_count": 47,
   "metadata": {},
   "outputs": [],
   "source": [
    "# Model Tuning\n",
    "#Model_lgr.regParam\n",
    "\n",
    "paramgrid =ParamGridBuilder()\\\n",
    ".addGrid(lgr.regParam, [0.0, 0,1])\\\n",
    ".addGrid(lgr.maxIter, [10])\\\n",
    ".build()\n"
   ]
  },
  {
   "cell_type": "code",
   "execution_count": 48,
   "metadata": {},
   "outputs": [],
   "source": [
    "evaluator_lr = MulticlassClassificationEvaluator(labelCol = 'churn', predictionCol='prediction')\n",
    "\n",
    "crossval = CrossValidator(estimator=lgr,\n",
    "                          estimatorParamMaps=paramgrid,\n",
    "                          evaluator=evaluator_lr,\n",
    "                          numFolds=3)\n"
   ]
  },
  {
   "cell_type": "code",
   "execution_count": 49,
   "metadata": {},
   "outputs": [],
   "source": [
    "cvModel = crossval.fit(train_df)\n",
    "\n",
    "\n",
    "# Make predictions on Validation data\n",
    "\n",
    "BestModel_lgr = cvModel.transform(validation_df)\n",
    "\n"
   ]
  },
  {
   "cell_type": "code",
   "execution_count": 50,
   "metadata": {},
   "outputs": [
    {
     "name": "stdout",
     "output_type": "stream",
     "text": [
      "Logistic Regression Accuracy: 0.8235294117647058 Logistic Regression F1: 0.7852941176470587\n"
     ]
    }
   ],
   "source": [
    "print(\"Logistic Regression Accuracy:\",evaluator_lr.evaluate(BestModel_lgr, {evaluator_lr.metricName: \"accuracy\"}),\n",
    "      \"Logistic Regression F1:\",evaluator_lr.evaluate(BestModel_lgr, {evaluator_lr.metricName: \"f1\"}))"
   ]
  },
  {
   "cell_type": "markdown",
   "metadata": {},
   "source": [
    "### Feature Importance\n",
    "\n",
    "Now we want to see from the features who is the more important one"
   ]
  },
  {
   "cell_type": "code",
   "execution_count": 78,
   "metadata": {},
   "outputs": [
    {
     "ename": "AttributeError",
     "evalue": "'LogisticRegressionModel' object has no attribute 'featureImportances'",
     "output_type": "error",
     "traceback": [
      "\u001b[0;31m---------------------------------------------------------------------------\u001b[0m",
      "\u001b[0;31mAttributeError\u001b[0m                            Traceback (most recent call last)",
      "\u001b[0;32m<ipython-input-78-7f79d1a6ec0f>\u001b[0m in \u001b[0;36m<module>\u001b[0;34m()\u001b[0m\n\u001b[1;32m      1\u001b[0m \u001b[0mBestModel\u001b[0m \u001b[0;34m=\u001b[0m \u001b[0mcvModel\u001b[0m\u001b[0;34m.\u001b[0m\u001b[0mbestModel\u001b[0m\u001b[0;34m\u001b[0m\u001b[0m\n\u001b[0;32m----> 2\u001b[0;31m \u001b[0mfeature_importance\u001b[0m \u001b[0;34m=\u001b[0m \u001b[0mBestModel\u001b[0m\u001b[0;34m.\u001b[0m\u001b[0mfeatureImportances\u001b[0m\u001b[0;34m\u001b[0m\u001b[0m\n\u001b[0m",
      "\u001b[0;31mAttributeError\u001b[0m: 'LogisticRegressionModel' object has no attribute 'featureImportances'"
     ]
    }
   ],
   "source": [
    "BestModel = cvModel.bestModel\n",
    "feature_importance = BestModel.featureImportances\n",
    "\n",
    "\n",
    "# i don't know why there's an error here\n"
   ]
  },
  {
   "cell_type": "markdown",
   "metadata": {},
   "source": [
    "\n",
    "## Conclusions"
   ]
  },
  {
   "cell_type": "markdown",
   "metadata": {},
   "source": [
    "As we say earlier first we took a look exploration on the small data after the EDA part we choosed our Features then we preprocessed our columns in order to get the data ready for modeling the the we fitted multiple algorithms we finally our winner model was the logisitic regression then we did some tuning for the model and we got oure result which is the Accuracy was : 82% and the F1 was: 0.78 which is considered good results."
   ]
  },
  {
   "cell_type": "markdown",
   "metadata": {},
   "source": [
    "# Final Steps\n",
    "Clean up your code, adding comments and renaming variables to make the code easier to read and maintain. Refer to the Spark Project Overview page and Data Scientist Capstone Project Rubric to make sure you are including all components of the capstone project and meet all expectations. Remember, this includes thorough documentation in a README file in a Github repository, as well as a web app or blog post."
   ]
  },
  {
   "cell_type": "code",
   "execution_count": null,
   "metadata": {},
   "outputs": [],
   "source": []
  },
  {
   "cell_type": "code",
   "execution_count": null,
   "metadata": {},
   "outputs": [],
   "source": []
  },
  {
   "cell_type": "code",
   "execution_count": null,
   "metadata": {},
   "outputs": [],
   "source": []
  }
 ],
 "metadata": {
  "kernelspec": {
   "display_name": "Python 3",
   "language": "python",
   "name": "python3"
  },
  "language_info": {
   "codemirror_mode": {
    "name": "ipython",
    "version": 3
   },
   "file_extension": ".py",
   "mimetype": "text/x-python",
   "name": "python",
   "nbconvert_exporter": "python",
   "pygments_lexer": "ipython3",
   "version": "3.6.3"
  }
 },
 "nbformat": 4,
 "nbformat_minor": 2
}
